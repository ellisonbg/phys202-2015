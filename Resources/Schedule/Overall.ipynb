{
 "cells": [
  {
   "cell_type": "markdown",
   "metadata": {},
   "source": [
    "# Overall Schedule"
   ]
  },
  {
   "cell_type": "markdown",
   "metadata": {},
   "source": [
    "## Topics\n",
    "\n",
    "Data:\n",
    "\n",
    "* list, tuple, dict, set\n",
    "* iterators, generators\n",
    "* NumPy\n",
    "\n",
    "Visualization:\n",
    "\n",
    "* Matplotlib/Seaborn\n",
    "* Widgets\n",
    "* Animation\n",
    "\n",
    "Algorithms:\n",
    "\n",
    "* Interpolation\n",
    "* Differentiation\n",
    "* Integration\n",
    "* ODE\n",
    "* Linear Algebra\n",
    "* Optimization\n",
    "\n",
    "Software Engineering:\n",
    "\n",
    "* Git/GitHub\n",
    "* Testing\n",
    "* Style (PEP8)\n",
    "* Narrative Descriptions\n",
    "* LaTeX\n",
    "* Error Handling"
   ]
  },
  {
   "cell_type": "markdown",
   "metadata": {},
   "source": [
    "## Week by week:\n",
    "\n",
    "1. Intro, GitHub and Codecademy\n",
    "2. Syllabus, Git/GitHub, Shell, CA\n",
    "3. Git/GitHub, Shell, nbgrader, IPython \n",
    "4. Git/GitHub, Shell, nbgrader, IPython (assignment01 due)\n",
    "5. NumPy, Testing (assignment02 due)\n",
    "6. Matplotlib, PEP8 (assignment03 due)\n",
    "7. Widgets/Animation (assignment04 due)\n",
    "8. Display, LaTeX (assignment05 due)\n",
    "9. Review (assignment06 due\n",
    "10. Midterm (assignment07 due)\n",
    "\n",
    "11. Interpolation + Differentiation\n",
    "12. Integration\n",
    "\n",
    "13. ODE\n",
    "14. Project Intro\n",
    "\n",
    "15. Project Work Day (U2/Hearing)\n",
    "16. Project Work Day (U2/Hearing)\n",
    "\n",
    "17. Memorial Day\n",
    "18. Linear Algebra + Optimization\n",
    "\n",
    "19. Random distributions/Stats\n",
    "20. Regression and fitting"
   ]
  },
  {
   "cell_type": "markdown",
   "metadata": {},
   "source": [
    "## Klay's schedule\n",
    "\n",
    "1. Codecademy\n",
    "2. Git/CA/Shell\n",
    "3. Git/CA/Shell/Euler\n",
    "4. ssh/IPython/IPythonBlocks\n",
    "5. NumPy\n",
    "6. DataIO, CountingStars\n",
    "7. Matplotlib, LaTeX\n",
    "8. Widgets, Animation, Error Handling\n",
    "9. Midterm\n",
    "10. Project Intro\n",
    "11. Interpolation\n",
    "12. Differentiation\n",
    "13. Integration\n",
    "14. ODEs\n",
    "15. MC Integration\n",
    "16. Random numbers and MC simulation\n",
    "17. No class\n",
    "18. Regression, Optimization, Fitting\n",
    "19. SymPy\n",
    "20. Project work time"
   ]
  }
 ],
 "metadata": {
  "kernelspec": {
   "display_name": "Python 3",
   "language": "python",
   "name": "python3"
  },
  "language_info": {
   "codemirror_mode": {
    "name": "ipython",
    "version": 3
   },
   "file_extension": ".py",
   "mimetype": "text/x-python",
   "name": "python",
   "nbconvert_exporter": "python",
   "pygments_lexer": "ipython3",
   "version": "3.4.0"
  }
 },
 "nbformat": 4,
 "nbformat_minor": 0
}
