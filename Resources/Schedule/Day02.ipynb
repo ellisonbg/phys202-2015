{
 "cells": [
  {
   "cell_type": "markdown",
   "metadata": {},
   "source": [
    "# Day 2\n",
    "\n",
    "* Computational Physics (PHYS 202)\n",
    "* Cal Poly, Spring 2015\n",
    "* Brian E. Granger"
   ]
  },
  {
   "cell_type": "markdown",
   "metadata": {},
   "source": [
    "## In class\n",
    "\n",
    "* Go over syllabus\n",
    "* Log onto dirac1.calpoly.edu using SSH and the Terminal\n",
    "* Log onto https://dirac1.calpoly.edu\n",
    "* Bash/Terminal basics\n",
    "  - How to open a terminal\n",
    "  - `ls`, `cd`, `pwd`, `rm`, `mkdir`, `cp`, `git`, `mv`\n",
    "* Git basics\n",
    "  - [Set Up Git](https://help.github.com/articles/set-up-git/)\n",
    "  - [Create a Repo](https://help.github.com/articles/create-a-repo/)\n",
    "  - [Fork a Repo](https://help.github.com/articles/fork-a-repo/)\n",
    "  - Fork the repo https://github.com/ellisonbg/phys202-2015\n",
    "* Log onto gitter and find the following rooms:\n",
    "  - `ellisonbg/phys202-2015`\n",
    "* Continue working on http://codecademy.com in class"
   ]
  },
  {
   "cell_type": "markdown",
   "metadata": {},
   "source": [
    "## Out of class\n",
    "\n",
    "* Continue to work Python course on http://codecademy.com, must be done by beginning of 4th day of class."
   ]
  }
 ],
 "metadata": {
  "kernelspec": {
   "display_name": "Python 2",
   "language": "python",
   "name": "python2"
  },
  "language_info": {
   "codemirror_mode": {
    "name": "ipython",
    "version": 2
   },
   "file_extension": ".py",
   "mimetype": "text/x-python",
   "name": "python",
   "nbconvert_exporter": "python",
   "pygments_lexer": "ipython2",
   "version": "2.7.6"
  }
 },
 "nbformat": 4,
 "nbformat_minor": 0
}
