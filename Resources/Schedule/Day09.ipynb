{
 "cells": [
  {
   "cell_type": "markdown",
   "metadata": {},
   "source": [
    "# Day 8\n",
    "\n",
    "* Computational Physics (PHYS 202)\n",
    "* Cal Poly, Spring 2015\n",
    "* Brian E. Granger"
   ]
  },
  {
   "cell_type": "markdown",
   "metadata": {},
   "source": [
    "## In class"
   ]
  },
  {
   "cell_type": "markdown",
   "metadata": {},
   "source": [
    "* **Midterm this Wednesday**\n",
    "  - Make sure you have pushed all of your days and assignments to GitHub by then.\n",
    "  - You will be provided a list of internet links you can use:\n",
    "    - Matplotlib, Python, NumPy, etc. documentation.\n",
    "    - No access to Google or StackOverflow, etc.\n",
    "  - You can use your past assignments and the course material.\n",
    "\n",
    "* **Change in late policy**\n",
    "  - Late penalties will be calculated on a continuous basis with an exponential decay\n",
    "    of 1 week.\n",
    "  - However, any resubmission will change the submitted timestamp for all problems in the\n",
    "    assignment.\n",
    "\n",
    "* Office hours: Tuesday 9-10am, **no office hours this Th/Fri (trip to Bay Area).**\n",
    "\n",
    "* Grading\n",
    "  - Grading is almost caught up.\n",
    "  - Solutions will be posted as static html and a link emailed to you before the exam.\n",
    "\n",
    "* Turn in `assignment06`:\n",
    "\n",
    "        nbgrader submit assignment06 phys202-2015\n",
    "\n",
    "* Go over some of `assignment06`\n",
    "\n",
    "* Fetch today's material:\n",
    "\n",
    "        nbgrader fetch phys202-2015 day09\n",
    "        nbgrader fetch phys202-2015 assignment07"
   ]
  },
  {
   "cell_type": "markdown",
   "metadata": {},
   "source": [
    "## Out of class"
   ]
  },
  {
   "cell_type": "markdown",
   "metadata": {},
   "source": [
    "* Complete `assignment07` as a review for the midterm by Wednesday (Day 10)."
   ]
  }
 ],
 "metadata": {
  "kernelspec": {
   "display_name": "Python 3",
   "language": "python",
   "name": "python3"
  },
  "language_info": {
   "codemirror_mode": {
    "name": "ipython",
    "version": 3
   },
   "file_extension": ".py",
   "mimetype": "text/x-python",
   "name": "python",
   "nbconvert_exporter": "python",
   "pygments_lexer": "ipython3",
   "version": "3.4.0"
  }
 },
 "nbformat": 4,
 "nbformat_minor": 0
}
