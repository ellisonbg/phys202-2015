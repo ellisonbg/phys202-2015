{
 "cells": [
  {
   "cell_type": "markdown",
   "metadata": {},
   "source": [
    "# Day 4\n",
    "\n",
    "* Computational Physics (PHYS 202)\n",
    "* Cal Poly, Spring 2015\n",
    "* Brian E. Granger"
   ]
  },
  {
   "cell_type": "markdown",
   "metadata": {},
   "source": [
    "## In class"
   ]
  },
  {
   "cell_type": "markdown",
   "metadata": {},
   "source": [
    "* Help turning in `assignment01`:\n",
    "\n",
    "        nbgrader submit assignment01 phys202-2015\n",
    "\n",
    "* Review of Git/GitHub workflow:\n",
    "\n",
    "        # Make changes to files!\n",
    "        git status\n",
    "        git add <file>\n",
    "        git commit\n",
    "        git push origin master\n",
    "        # Repeat!!!\n",
    "\n",
    "* Fetch today's material:\n",
    "\n",
    "        nbgrader fetch phys202-2015 day04\n",
    "        nbgrader fetch phys202-2015 assignment02\n",
    "        nbgrader fetch phys202-2015 syllabus\n",
    "\n",
    "* `PLEDGE.md`\n",
    "  - Copy this file into the top level of your `phys202-2015-work` repo.\n",
    "  - Edit to add your name and date.\n",
    "  - Git add/commit/push\n",
    "* Writing code in the Jupyter Notebook\n",
    "  - Overview of the UI\n",
    "  - Keyboard shortcuts\n",
    "  - Stopping and restarting the kernel\n",
    "  - How to check CPU/RAM usage using top\n",
    "* Work on `assignment02`"
   ]
  },
  {
   "cell_type": "markdown",
   "metadata": {},
   "source": [
    "## Out of class"
   ]
  },
  {
   "cell_type": "markdown",
   "metadata": {},
   "source": [
    "* Complete `assignment02` by next Monday (Day 5)"
   ]
  }
 ],
 "metadata": {
  "kernelspec": {
   "display_name": "Python 3",
   "language": "python",
   "name": "python3"
  },
  "language_info": {
   "codemirror_mode": {
    "name": "ipython",
    "version": 3
   },
   "file_extension": ".py",
   "mimetype": "text/x-python",
   "name": "python",
   "nbconvert_exporter": "python",
   "pygments_lexer": "ipython3",
   "version": "3.4.0"
  }
 },
 "nbformat": 4,
 "nbformat_minor": 0
}
