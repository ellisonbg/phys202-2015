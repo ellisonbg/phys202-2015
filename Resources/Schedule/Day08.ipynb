{
 "cells": [
  {
   "cell_type": "markdown",
   "metadata": {},
   "source": [
    "# Day 8\n",
    "\n",
    "* Computational Physics (PHYS 202)\n",
    "* Cal Poly, Spring 2015\n",
    "* Brian E. Granger"
   ]
  },
  {
   "cell_type": "markdown",
   "metadata": {},
   "source": [
    "## In class"
   ]
  },
  {
   "cell_type": "markdown",
   "metadata": {},
   "source": [
    "* **Midterm next Wednesday**\n",
    "  - Make sure you have pushed all of your days and assignments to GitHub by then.\n",
    "  - Questions?\n",
    "\n",
    "* Changed office hours: Tuesday 9-10am, Thursday 9-10am, Friday 4-5pm.\n",
    "\n",
    "* Turn in `assignment05`:\n",
    "\n",
    "        nbgrader submit assignment05 phys202-2015\n",
    "\n",
    "* Go over some of `assignment05`\n",
    "\n",
    "* Fetch today's material:\n",
    "\n",
    "        nbgrader fetch phys202-2015 day08\n",
    "        nbgrader fetch phys202-2015 assignment06"
   ]
  },
  {
   "cell_type": "markdown",
   "metadata": {},
   "source": [
    "## Out of class"
   ]
  },
  {
   "cell_type": "markdown",
   "metadata": {},
   "source": [
    "* Complete `assignment06` by next Monday (Day 9)."
   ]
  }
 ],
 "metadata": {
  "kernelspec": {
   "display_name": "Python 3",
   "language": "python",
   "name": "python3"
  },
  "language_info": {
   "codemirror_mode": {
    "name": "ipython",
    "version": 3
   },
   "file_extension": ".py",
   "mimetype": "text/x-python",
   "name": "python",
   "nbconvert_exporter": "python",
   "pygments_lexer": "ipython3",
   "version": "3.4.0"
  }
 },
 "nbformat": 4,
 "nbformat_minor": 0
}
