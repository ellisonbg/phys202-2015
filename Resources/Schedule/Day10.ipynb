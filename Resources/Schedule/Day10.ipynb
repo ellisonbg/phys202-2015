{
 "cells": [
  {
   "cell_type": "markdown",
   "metadata": {},
   "source": [
    "# Day 10: Midterm\n",
    "\n",
    "* Computational Physics (PHYS 202)\n",
    "* Cal Poly, Spring 2015\n",
    "* Brian E. Granger"
   ]
  },
  {
   "cell_type": "markdown",
   "metadata": {},
   "source": [
    "## In class"
   ]
  },
  {
   "cell_type": "markdown",
   "metadata": {},
   "source": [
    "* **Midterm today!!!**\n",
    "  - Make sure you have pushed all of your days and assignments to GitHub by then.\n",
    "  - You can use any link in the \"Help\" menu of the notebook.\n",
    "  - You can use your past assignments and the course material.\n",
    "  - Each problem worth 10 points.\n",
    "  - Budget 40 minutes for each.\n",
    "\n",
    "* Turn in `assignment07`:\n",
    "\n",
    "        nbgrader submit assignment07 phys202-2015\n",
    "\n",
    "* Fetch the midterm:\n",
    "\n",
    "        nbgrader fetch phys202-2015 midterm\n",
    "\n",
    "* Submit when you are done:\n",
    "\n",
    "        nbgrader submit midterm phys202-2015"
   ]
  },
  {
   "cell_type": "markdown",
   "metadata": {},
   "source": [
    "## Out of class"
   ]
  },
  {
   "cell_type": "markdown",
   "metadata": {},
   "source": [
    "* Rest until Monday!\n",
    "* Finish any unfinished homework."
   ]
  }
 ],
 "metadata": {
  "kernelspec": {
   "display_name": "Python 3",
   "language": "python",
   "name": "python3"
  },
  "language_info": {
   "codemirror_mode": {
    "name": "ipython",
    "version": 3
   },
   "file_extension": ".py",
   "mimetype": "text/x-python",
   "name": "python",
   "nbconvert_exporter": "python",
   "pygments_lexer": "ipython3",
   "version": "3.4.0"
  }
 },
 "nbformat": 4,
 "nbformat_minor": 0
}
