{
 "cells": [
  {
   "cell_type": "markdown",
   "metadata": {},
   "source": [
    "# Day 7\n",
    "\n",
    "* Computational Physics (PHYS 202)\n",
    "* Cal Poly, Spring 2015\n",
    "* Brian E. Granger"
   ]
  },
  {
   "cell_type": "markdown",
   "metadata": {},
   "source": [
    "## In class"
   ]
  },
  {
   "cell_type": "markdown",
   "metadata": {},
   "source": [
    "* Changed office hours: Tuesday 9-10am, Thursday 9-10am, Friday 4-5pm.\n",
    "* Pair programming\n",
    "  - One person is the driver and will write/explain code.\n",
    "  - The other person is the passenger and will observe, provide feedback, discuss, etc.\n",
    "  - Learn how to use `np.meshgrid` in an empty notebook, explain how it works and why you would use it.\n",
    "\n",
    "* Turn in `assignment04`:\n",
    "\n",
    "        nbgrader submit assignment04 phys202-2015\n",
    "\n",
    "* Go over some of `assignment04`\n",
    "\n",
    "* Fetch today's material:\n",
    "\n",
    "        nbgrader fetch phys202-2015 day07\n",
    "        nbgrader fetch phys202-2015 assignment05"
   ]
  },
  {
   "cell_type": "markdown",
   "metadata": {},
   "source": [
    "## Out of class"
   ]
  },
  {
   "cell_type": "markdown",
   "metadata": {},
   "source": [
    "* Complete `assignment05` by next Wednesday (Day 8)."
   ]
  }
 ],
 "metadata": {
  "kernelspec": {
   "display_name": "Python 3",
   "language": "python",
   "name": "python3"
  },
  "language_info": {
   "codemirror_mode": {
    "name": "ipython",
    "version": 3
   },
   "file_extension": ".py",
   "mimetype": "text/x-python",
   "name": "python",
   "nbconvert_exporter": "python",
   "pygments_lexer": "ipython3",
   "version": "3.4.0"
  }
 },
 "nbformat": 4,
 "nbformat_minor": 0
}
