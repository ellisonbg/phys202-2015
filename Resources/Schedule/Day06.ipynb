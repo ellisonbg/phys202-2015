{
 "cells": [
  {
   "cell_type": "markdown",
   "metadata": {},
   "source": [
    "# Day 6\n",
    "\n",
    "* Computational Physics (PHYS 202)\n",
    "* Cal Poly, Spring 2015\n",
    "* Brian E. Granger"
   ]
  },
  {
   "cell_type": "markdown",
   "metadata": {},
   "source": [
    "## In class"
   ]
  },
  {
   "cell_type": "markdown",
   "metadata": {},
   "source": [
    "* Pair programming\n",
    "  - One person is the driver and will write/explain code.\n",
    "  - The other person is the passenger and will observe, provide feedback, discuss, etc.\n",
    "  - Work on NumPy exercises for 15 minutes with one person as the driver, then swap.\n",
    "\n",
    "* Turn in `assignment03`:\n",
    "\n",
    "        nbgrader submit assignment03 phys202-2015\n",
    "\n",
    "* Go over some of `assignment03`\n",
    "\n",
    "* Fetch today's material:\n",
    "\n",
    "        nbgrader fetch phys202-2015 day06\n",
    "\n",
    "* The new `assignment04` will be out soon:\n",
    "\n",
    "        nbgrader fetch phys202-2015 assignment04\n",
    "\n",
    "* Matplotlib for visualization"
   ]
  },
  {
   "cell_type": "markdown",
   "metadata": {},
   "source": [
    "## Out of class"
   ]
  },
  {
   "cell_type": "markdown",
   "metadata": {},
   "source": [
    "* Complete `assignment04` by next Monday Wednesday (Day 7)"
   ]
  }
 ],
 "metadata": {
  "kernelspec": {
   "display_name": "Python 3",
   "language": "python",
   "name": "python3"
  },
  "language_info": {
   "codemirror_mode": {
    "name": "ipython",
    "version": 3
   },
   "file_extension": ".py",
   "mimetype": "text/x-python",
   "name": "python",
   "nbconvert_exporter": "python",
   "pygments_lexer": "ipython3",
   "version": "3.4.0"
  }
 },
 "nbformat": 4,
 "nbformat_minor": 0
}
