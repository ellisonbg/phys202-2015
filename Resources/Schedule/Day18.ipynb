{
 "cells": [
  {
   "cell_type": "markdown",
   "metadata": {},
   "source": [
    "# Day 18\n",
    "\n",
    "* Computational Physics (PHYS 202)\n",
    "* Cal Poly, Spring 2015\n",
    "* Brian E. Granger"
   ]
  },
  {
   "cell_type": "markdown",
   "metadata": {},
   "source": [
    "## In class"
   ]
  },
  {
   "cell_type": "markdown",
   "metadata": {},
   "source": [
    "* Progress Reports due today\n",
    "    - Don't push to GitHub yet.\n",
    "    - Make sure you have all of you project in a single directory, named `phys202-project`.\n",
    "    - That directory should not be in another git repo.\n",
    "    - Turn in my midnight tonight - doesnt have to be perfect, the main purpose of this is for me to give you feedback.\n",
    "\n",
    "* Submit your Progress Report:\n",
    "\n",
    "        nbgrader submit phys202-project phys202-2015\n",
    "\n",
    "* Small new homework on optimization is due on Monday.\n",
    "\n",
    "* Extended office hours on Thursday:\n",
    "    - 9-11 am\n",
    "    - 1-3 pm\n",
    "\n",
    "* I am traveling this weekend, but will have extended office hours on Saturday and Sunday of the weekend before finals.\n",
    "\n",
    "* Fetch today's material:\n",
    "\n",
    "        nbgrader fetch phys202-2015 day18\n",
    "        nbgrader fetch phys202-2015 assignment11"
   ]
  },
  {
   "cell_type": "markdown",
   "metadata": {},
   "source": [
    "## Out of class"
   ]
  },
  {
   "cell_type": "markdown",
   "metadata": {},
   "source": [
    "* Complete `assignment11` by Monday (Day 19)."
   ]
  }
 ],
 "metadata": {
  "kernelspec": {
   "display_name": "Python 3",
   "language": "python",
   "name": "python3"
  },
  "language_info": {
   "codemirror_mode": {
    "name": "ipython",
    "version": 3
   },
   "file_extension": ".py",
   "mimetype": "text/x-python",
   "name": "python",
   "nbconvert_exporter": "python",
   "pygments_lexer": "ipython3",
   "version": "3.4.0"
  }
 },
 "nbformat": 4,
 "nbformat_minor": 0
}
