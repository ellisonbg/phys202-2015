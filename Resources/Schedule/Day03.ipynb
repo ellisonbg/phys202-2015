{
 "cells": [
  {
   "cell_type": "markdown",
   "metadata": {},
   "source": [
    "# Day 3\n",
    "\n",
    "* Computational Physics (PHYS 202)\n",
    "* Cal Poly, Spring 2015\n",
    "* Brian E. Granger"
   ]
  },
  {
   "cell_type": "markdown",
   "metadata": {},
   "source": [
    "## In class"
   ]
  },
  {
   "cell_type": "markdown",
   "metadata": {},
   "source": [
    "### Outline\n",
    "\n",
    "* Cookies and web authentication\n",
    "* Log onto https://dirac1.calpoly.edu\n",
    "* Fetch today's material\n",
    "\n",
    "        nbgrader fetch phys202-2015 day03\n",
    "* Bash/Terminal basics\n",
    "* Git basics\n",
    "* nbgrader\n",
    "* Work on `assignment1` and http://codecademy.com"
   ]
  },
  {
   "cell_type": "markdown",
   "metadata": {},
   "source": [
    "### Cookies and web authentication\n",
    "\n",
    "* When you log into a website, the remote web server sends back a small bit of data called a cookie.\n",
    "* Anytime you request a new page or resource from that website, your web browser sends the cookie back to the web server.\n",
    "* The web server uses the cookie to verify that you are logged in.\n",
    "* **Having the cookie is equivalent with being you.**\n",
    "* The web browser saves the cookie while you are logged in, and anyone can view it.\n",
    "* When you log out, the web browser deletes the cookie.\n",
    "* If you forget to logout from a website, the next person who comes along to that browser will be logged on as you and can steal your cookie.\n",
    "* Incognito/Private browsing mode starts with no cookies, ends with no cookies.\n",
    "* **Always use Incognito/Private mode on shared computers.**"
   ]
  },
  {
   "cell_type": "markdown",
   "metadata": {},
   "source": [
    "### Log onto JupyterHub on dirac1\n",
    "\n",
    "* Point your browser to https://dirac1.calpoly.edu.\n",
    "* Log on with your Cal Poly username (without the `@calpoly.edu`) and password."
   ]
  },
  {
   "cell_type": "markdown",
   "metadata": {},
   "source": [
    "## Bash/Terminal basics\n",
    "\n",
    "The UNIX/LINUX *terminal* or *shell* provides a command line interface to a UNIX/LINUX computer. Bash is a common, and often default, programming language for the UNIX shell.\n",
    "\n",
    "There are a couple of ways you can run terminal/bash command:\n",
    "\n",
    "1. You can access a full blown terminal from the Jupyter Notebook by selecting *Terminal* from the *New* dropdown in the *Files* tab of the dashboard.\n",
    "2. Running cells in a notebook that is using the *Bash* kernel.\n",
    "3. Prefixing commands with `!` in a Python kernel.\n",
    "\n",
    "To see the different terminal commands that are available on your system, you can use the `ls` command in the following direcot\n",
    "\n",
    "In UNIX systems, the different commands you can run are typically put into various `bin` directories:\n",
    "\n",
    "* `/usr/bin`\n",
    "* `/usr/local/bin`\n",
    "\n",
    "Here are the commands in `/usr/local/bin`:"
   ]
  },
  {
   "cell_type": "code",
   "execution_count": 1,
   "metadata": {
    "collapsed": false
   },
   "outputs": [
    {
     "name": "stdout",
     "output_type": "stream",
     "text": [
      "acs_destripe\t\t iptest\t\t\tpyflakes\r\n",
      "autopep8\t\t iptest2\t\tpygmentize\r\n",
      "bower\t\t\t iptest3\t\tpyraf\r\n",
      "calcos\t\t\t ipython\t\tresetbits\r\n",
      "configurable-http-proxy  ipython2\t\trst2html.py\r\n",
      "convertwaiveredfits\t ipython3\t\trst2latex.py\r\n",
      "cygdb\t\t\t isympy\t\t\trst2man.py\r\n",
      "cython\t\t\t jsonpointer\t\trst2odt_prepstyles.py\r\n",
      "cythonize\t\t jsonschema\t\trst2odt.py\r\n",
      "easy_install\t\t jupyterhub\t\trst2pseudoxml.py\r\n",
      "easy_install-2.7\t jupyterhub-singleuser\trst2s5.py\r\n",
      "easy_install-3.4\t lessc\t\t\trst2xetex.py\r\n",
      "f2py\t\t\t mdriz\t\t\trst2xml.py\r\n",
      "f2py3\t\t\t nbgrader\t\trstpep2html.py\r\n",
      "fits2bitmap\t\t nosetests\t\trunastrodriz\r\n",
      "fitscheck\t\t nosetests-2.7\t\tsamp_hub\r\n",
      "fitsdiff\t\t nosetests-3.4\t\tskivi\r\n",
      "fitsheader\t\t pep8\t\t\tsphinx-apidoc\r\n",
      "grin\t\t\t pilconvert.py\t\tsphinx-autogen\r\n",
      "grind\t\t\t pildriver.py\t\tsphinx-build\r\n",
      "ipcluster\t\t pilfile.py\t\tsphinx-quickstart\r\n",
      "ipcluster2\t\t pilfont.py\t\tstscidocs\r\n",
      "ipcluster3\t\t pilprint.py\t\ttdspysyn\r\n",
      "ipcontroller\t\t pip\t\t\ttimefilter\r\n",
      "ipcontroller2\t\t pip2\t\t\tupdatenpol\r\n",
      "ipcontroller3\t\t pip2.7\t\t\tvolint\r\n",
      "ipengine\t\t pip3\t\t\twcslint\r\n",
      "ipengine2\t\t pip3.4\r\n",
      "ipengine3\t\t pybabel\r\n"
     ]
    }
   ],
   "source": [
    "!ls /usr/local/bin"
   ]
  },
  {
   "cell_type": "markdown",
   "metadata": {},
   "source": [
    "You can always find out where a command lives using `which`:"
   ]
  },
  {
   "cell_type": "code",
   "execution_count": 2,
   "metadata": {
    "collapsed": false
   },
   "outputs": [
    {
     "name": "stdout",
     "output_type": "stream",
     "text": [
      "/usr/bin/python2\r\n"
     ]
    }
   ],
   "source": [
    "!which python2"
   ]
  },
  {
   "cell_type": "markdown",
   "metadata": {},
   "source": [
    "### Paths\n",
    "\n",
    "In UNIX, files and directories are found according to their path. An example of a path is `/usr/bin/python2` above. Some details about paths:\n",
    "\n",
    "* Path components are separated by `/` (unlike `\\` on Windows)\n",
    "* The *root* of the filesystem is always a single `/`\n",
    "* Absolute paths start with `/`\n",
    "* Relative paths don't begin with `/` and are relative to your current working directory\n",
    "* Paths are case sensitive (`foo` is not the same as `Foo` or `FOO`)\n",
    "* You can put spaces in your paths, but life is easier without them\n",
    "* The path component `.` refers to the cwd\n",
    "* The path component `..` refers to the parent of the cwd\n",
    "* The path component `~` refers to your home directory\n",
    "* The path component `*` matches any path\n",
    "\n",
    "Your current working directory can be found using `pwd`:"
   ]
  },
  {
   "cell_type": "code",
   "execution_count": 3,
   "metadata": {
    "collapsed": false
   },
   "outputs": [
    {
     "name": "stdout",
     "output_type": "stream",
     "text": [
      "/nfshome/bgranger/phys202/phys202-2015/Resources/Schedule\r\n"
     ]
    }
   ],
   "source": [
    "!pwd"
   ]
  },
  {
   "cell_type": "markdown",
   "metadata": {},
   "source": [
    "### ls\n",
    "\n",
    "To list the contents of your current working directory or a path, use the `ls` command.\n",
    "\n",
    "List the current working directory:"
   ]
  },
  {
   "cell_type": "code",
   "execution_count": 4,
   "metadata": {
    "collapsed": false
   },
   "outputs": [
    {
     "name": "stdout",
     "output_type": "stream",
     "text": [
      "Day01.ipynb  Day02.ipynb  Day03.ipynb  __pycache__  test\r\n"
     ]
    }
   ],
   "source": [
    "!ls"
   ]
  },
  {
   "cell_type": "markdown",
   "metadata": {},
   "source": [
    "List your home directory:"
   ]
  },
  {
   "cell_type": "code",
   "execution_count": 5,
   "metadata": {
    "collapsed": false
   },
   "outputs": [
    {
     "name": "stdout",
     "output_type": "stream",
     "text": [
      "Desktop  iraf  nbgrader  phys202\r\n"
     ]
    }
   ],
   "source": [
    "!ls ~"
   ]
  },
  {
   "cell_type": "markdown",
   "metadata": {},
   "source": [
    "You can add the `-l` flag to show more details:"
   ]
  },
  {
   "cell_type": "code",
   "execution_count": 6,
   "metadata": {
    "collapsed": false
   },
   "outputs": [
    {
     "name": "stdout",
     "output_type": "stream",
     "text": [
      "total 16\r\n",
      "drwxr-xr-x 2 bgranger domain^users 4096 Apr 10  2014 Desktop\r\n",
      "drwxr-xr-x 3 bgranger domain^users 4096 Apr  4  2014 iraf\r\n",
      "drwxr-xr-x 3 bgranger domain^users 4096 Apr  6 08:02 nbgrader\r\n",
      "drwxr-xr-x 5 bgranger domain^users 4096 Mar 31 22:48 phys202\r\n"
     ]
    }
   ],
   "source": [
    "!ls -l ~"
   ]
  },
  {
   "cell_type": "markdown",
   "metadata": {},
   "source": [
    "Files beginning with a `.` in their filename are hidden by default. You can show them using the `-a` flag:"
   ]
  },
  {
   "cell_type": "code",
   "execution_count": 7,
   "metadata": {
    "collapsed": false
   },
   "outputs": [
    {
     "name": "stdout",
     "output_type": "stream",
     "text": [
      ".\t       .dbus\t    .git-credential-cache  .matlab\t  .ssh\r\n",
      "..\t       Desktop\t    .ipynb_checkpoints\t   .matplotlib\t  .subversion\r\n",
      ".aptitude      .distlib     .ipython\t\t   .mozilla\t  .virtualenvs\r\n",
      ".bash_history  .felix\t    iraf\t\t   .nano_history  .w3m\r\n",
      ".bash_logout   .fontconfig  .java\t\t   nbgrader\t  .Xauthority\r\n",
      ".bashrc        .gconf\t    .k5login\t\t   phys202\r\n",
      ".cache\t       .gconfd\t    .local\t\t   .profile\r\n",
      ".config        .gitconfig   .Mathematica\t   .root_hist\r\n"
     ]
    }
   ],
   "source": [
    "!ls -a ~"
   ]
  },
  {
   "cell_type": "markdown",
   "metadata": {},
   "source": [
    "Notice how your home directory has many hidden files. These are typically used to configure various programs on your system. You can edit these files in the notebook using a URL like the following:\n",
    "\n",
    "    /user/bgranger/edit/nfshome/bgranger/.bashrc"
   ]
  },
  {
   "cell_type": "markdown",
   "metadata": {},
   "source": [
    "### cd\n",
    "\n",
    "The `cd` command is used the change directories."
   ]
  },
  {
   "cell_type": "markdown",
   "metadata": {},
   "source": [
    "### touch and mkdir\n",
    "\n",
    "The `touch` command is used to create a new empty file, or update the timestamp of an existing file:"
   ]
  },
  {
   "cell_type": "code",
   "execution_count": 8,
   "metadata": {
    "collapsed": false
   },
   "outputs": [],
   "source": [
    "!touch testfile.py"
   ]
  },
  {
   "cell_type": "markdown",
   "metadata": {},
   "source": [
    "The mkdir command is used to create a new empty directory:"
   ]
  },
  {
   "cell_type": "code",
   "execution_count": 9,
   "metadata": {
    "collapsed": false
   },
   "outputs": [],
   "source": [
    "!mkdir testdir"
   ]
  },
  {
   "cell_type": "code",
   "execution_count": 10,
   "metadata": {
    "collapsed": false
   },
   "outputs": [
    {
     "name": "stdout",
     "output_type": "stream",
     "text": [
      "Day01.ipynb  Day02.ipynb  Day03.ipynb  __pycache__  test  testdir  testfile.py\r\n"
     ]
    }
   ],
   "source": [
    "!ls"
   ]
  },
  {
   "cell_type": "markdown",
   "metadata": {},
   "source": [
    "### rm\n",
    "\n",
    "The `rm` command is used to remove files or directories. Remove the test file we created above:"
   ]
  },
  {
   "cell_type": "code",
   "execution_count": 11,
   "metadata": {
    "collapsed": false
   },
   "outputs": [],
   "source": [
    "!rm testfile.py"
   ]
  },
  {
   "cell_type": "markdown",
   "metadata": {},
   "source": [
    "To remove a directory, you have to add the `-rf` flags:"
   ]
  },
  {
   "cell_type": "code",
   "execution_count": 12,
   "metadata": {
    "collapsed": false
   },
   "outputs": [],
   "source": [
    "!rm -rf testdir"
   ]
  },
  {
   "cell_type": "code",
   "execution_count": 13,
   "metadata": {
    "collapsed": false
   },
   "outputs": [
    {
     "name": "stdout",
     "output_type": "stream",
     "text": [
      "Day01.ipynb  Day02.ipynb  Day03.ipynb  __pycache__  test\r\n"
     ]
    }
   ],
   "source": [
    "!ls"
   ]
  },
  {
   "cell_type": "markdown",
   "metadata": {},
   "source": [
    "### cp and mv\n",
    "\n",
    "The `cp` command is used to copy a file or files to a new location, while preserving the original."
   ]
  },
  {
   "cell_type": "code",
   "execution_count": 26,
   "metadata": {
    "collapsed": false
   },
   "outputs": [],
   "source": [
    "!touch foo.py"
   ]
  },
  {
   "cell_type": "code",
   "execution_count": 27,
   "metadata": {
    "collapsed": false
   },
   "outputs": [
    {
     "name": "stdout",
     "output_type": "stream",
     "text": [
      "Day01.ipynb  Day02.ipynb  Day03.ipynb  foo.py  __pycache__  test\r\n"
     ]
    }
   ],
   "source": [
    "!ls"
   ]
  },
  {
   "cell_type": "code",
   "execution_count": 28,
   "metadata": {
    "collapsed": false
   },
   "outputs": [],
   "source": [
    "!cp foo.py foocopy.py"
   ]
  },
  {
   "cell_type": "code",
   "execution_count": 29,
   "metadata": {
    "collapsed": false
   },
   "outputs": [
    {
     "name": "stdout",
     "output_type": "stream",
     "text": [
      "Day01.ipynb  Day02.ipynb  Day03.ipynb  foocopy.py  foo.py  __pycache__\ttest\r\n"
     ]
    }
   ],
   "source": [
    "!ls"
   ]
  },
  {
   "cell_type": "code",
   "execution_count": 30,
   "metadata": {
    "collapsed": false
   },
   "outputs": [],
   "source": [
    "!rm foo.py foocopy.py"
   ]
  },
  {
   "cell_type": "code",
   "execution_count": 31,
   "metadata": {
    "collapsed": false
   },
   "outputs": [
    {
     "name": "stdout",
     "output_type": "stream",
     "text": [
      "Day01.ipynb  Day02.ipynb  Day03.ipynb  __pycache__  test\r\n"
     ]
    }
   ],
   "source": [
    "!ls"
   ]
  },
  {
   "cell_type": "markdown",
   "metadata": {},
   "source": [
    "The `mv` command is used to move a file to a new location."
   ]
  },
  {
   "cell_type": "markdown",
   "metadata": {},
   "source": [
    "### tree\n",
    "\n",
    "The `tree` command provides a nice visual representation of a path hierarchy:"
   ]
  },
  {
   "cell_type": "code",
   "execution_count": 20,
   "metadata": {
    "collapsed": false
   },
   "outputs": [
    {
     "name": "stdout",
     "output_type": "stream",
     "text": [
      "/nfshome/bgranger\r\n",
      "├── Desktop\r\n",
      "├── iraf\r\n",
      "│   ├── login.cl\r\n",
      "│   └── uparm\r\n",
      "├── nbgrader\r\n",
      "│   └── phys202-2015\r\n",
      "└── phys202\r\n",
      "    ├── C4P\r\n",
      "    ├── phys202-2015\r\n",
      "    └── phys202-2015-work\r\n",
      "\r\n",
      "9 directories, 1 file\r\n"
     ]
    }
   ],
   "source": [
    "!tree -L 2 ~"
   ]
  },
  {
   "cell_type": "markdown",
   "metadata": {},
   "source": [
    "### Editing files\n",
    "\n",
    "Files can be edited in two ways:\n",
    "\n",
    "1. Using a command line editor, such as `nano` or `vim`. We will use `nano` for this course.\n",
    "2. Using the Jupyter Notebook by clicking on the file."
   ]
  },
  {
   "cell_type": "markdown",
   "metadata": {},
   "source": [
    "### Environment variables\n",
    "\n",
    "Bash uses a set of *environment variables* to configure how various commands operate. To see your current variables, use `env`:"
   ]
  },
  {
   "cell_type": "code",
   "execution_count": 21,
   "metadata": {
    "collapsed": false
   },
   "outputs": [
    {
     "name": "stdout",
     "output_type": "stream",
     "text": [
      "USER=bgranger\r\n",
      "HOME=/nfshome/bgranger\r\n",
      "PAGER=cat\r\n",
      "TERM=xterm-color\r\n",
      "COLUMNS=80\r\n",
      "PATH=/usr/local/sbin:/usr/local/bin:/sbin:/bin:/usr/sbin:/usr/bin\r\n",
      "LANG=en_US.UTF-8\r\n",
      "SHELL=/bin/bash\r\n",
      "GIT_PAGER=cat\r\n",
      "CLICOLOR=1\r\n",
      "PWD=/nfshome/bgranger/phys202/phys202-2015/Resources/Schedule\r\n",
      "JPY_PARENT_PID=1129\r\n",
      "LINES=24\r\n"
     ]
    }
   ],
   "source": [
    "!env"
   ]
  },
  {
   "cell_type": "markdown",
   "metadata": {},
   "source": [
    "Notice how environment variables are typically `UPPERCASE_WITH_UNDERSCORES`. To set an env var, you need use the `export` command in one of the Bash configuration files:\n",
    "\n",
    "* `.bashrc`\n",
    "* `.bash_profile`\n",
    "\n",
    "The syntax looks like this:\n",
    "\n",
    "    export FOO=bar\n",
    "\n",
    "Before the variable will show in `env` you have to restart Bash."
   ]
  },
  {
   "cell_type": "markdown",
   "metadata": {},
   "source": [
    "### Exercise\n",
    "\n",
    "* Set the `EDITOR` variable in `.bashrc` to `nano` and verify it is set using `env`\n",
    "* Create a `phys202` directory in your home directory"
   ]
  },
  {
   "cell_type": "markdown",
   "metadata": {},
   "source": [
    "### Git/GitHub basics\n",
    "\n",
    "- [Set Up Git](https://help.github.com/articles/set-up-git/)\n",
    "- [Cache your GitHub Password](https://help.github.com/articles/caching-your-github-password-in-git/#platform-linux)\n",
    "- [Create a Repo](https://help.github.com/articles/create-a-repo/)"
   ]
  },
  {
   "cell_type": "markdown",
   "metadata": {},
   "source": [
    "### Exercise\n",
    "\n",
    "- Create your own `phys202-2015-work` repo and clone locally\n",
    "  - Pick a license (I suggest MIT)\n",
    "  - Pick a language for `.gitignore`\n",
    "- Create `days` and `assignments` subdirectories\n",
    "- Copy `PLEDGE.md` to your `phys202-2015-work` and sign it.\n",
    "- Add `.ipynb_checkpoints` to your `.gitignore` file\n",
    "- Add, commit and push everything."
   ]
  },
  {
   "cell_type": "markdown",
   "metadata": {},
   "source": [
    "### nbgrader\n",
    "\n",
    "Project Jupyter's `nbgrader` command will be used in this course to manage course content and assignments. It enables:\n",
    "\n",
    "* Instructors to release content and assignments to student.\n",
    "* Students to list and fetch content and assignments.\n",
    "* Students to submit completed assignments.\n",
    "* Instructors to automate the grading of collected/submitted assignments.\n",
    "\n",
    "In order to use nbgrader, you need to know the `course_id` for your course.\n",
    "\n",
    "The `course_id` for this course is **phys202-2015**.\n",
    "\n",
    "To list the assignments in the nbgrader exchange for your `course_id`:"
   ]
  },
  {
   "cell_type": "code",
   "execution_count": 34,
   "metadata": {
    "collapsed": false
   },
   "outputs": [
    {
     "name": "stdout",
     "output_type": "stream",
     "text": [
      "[ListApp | INFO] Released assignments:\r\n",
      "[ListApp | INFO] phys202-2015 test\r\n"
     ]
    }
   ],
   "source": [
    "!nbgrader list phys202-2015"
   ]
  },
  {
   "cell_type": "markdown",
   "metadata": {},
   "source": [
    "Now fetch the `test` assignment into your current working directory:"
   ]
  },
  {
   "cell_type": "code",
   "execution_count": 35,
   "metadata": {
    "collapsed": false
   },
   "outputs": [
    {
     "name": "stdout",
     "output_type": "stream",
     "text": [
      "[FetchApp | INFO] Source: /srv/nbgrader/exchange/phys202-2015/outbound/test\r\n",
      "[FetchApp | INFO] Destination: /nfshome/bgranger/phys202/phys202-2015/Resources/Schedule/test\r\n",
      "[FetchApp | INFO] Fetched as: phys202-2015 test\r\n"
     ]
    }
   ],
   "source": [
    "!nbgrader fetch phys202-2015 test"
   ]
  },
  {
   "cell_type": "markdown",
   "metadata": {},
   "source": [
    "Note that this creates a directory of that name in the current working directory:"
   ]
  },
  {
   "cell_type": "code",
   "execution_count": 36,
   "metadata": {
    "collapsed": false
   },
   "outputs": [
    {
     "name": "stdout",
     "output_type": "stream",
     "text": [
      "Day01.ipynb  Day02.ipynb  Day03.ipynb  __pycache__  test\r\n"
     ]
    }
   ],
   "source": [
    "!ls"
   ]
  },
  {
   "cell_type": "markdown",
   "metadata": {},
   "source": [
    "To submit a completed assignment to your instructor, you will first need to make sure you are in the parent directory of the assignment you want to submit. Put another way, if you want to submit the `test` assignment, you should see the `test` directory when you run `ls`.\n",
    "\n",
    "Go ahead and submit the `test` assignment:"
   ]
  },
  {
   "cell_type": "code",
   "execution_count": 37,
   "metadata": {
    "collapsed": false
   },
   "outputs": [
    {
     "name": "stdout",
     "output_type": "stream",
     "text": [
      "[SubmitApp | INFO] Source: /nfshome/bgranger/phys202/phys202-2015/Resources/Schedule/test\r\n",
      "[SubmitApp | INFO] Destination: /srv/nbgrader/exchange/phys202-2015/inbound/bgranger+test+2015-04-06 17:44:22 UTC\r\n",
      "[SubmitApp | INFO] Submitted as: phys202-2015 test 2015-04-06 17:44:22 UTC\r\n"
     ]
    }
   ],
   "source": [
    "!nbgrader submit test phys202-2015"
   ]
  },
  {
   "cell_type": "markdown",
   "metadata": {},
   "source": [
    "Each time you submit an assignment, it is timestamped with the current time. If you submit an assignment multiple times, your instructor will always see the most recent submission. These timestamps are also used to track late work."
   ]
  },
  {
   "cell_type": "code",
   "execution_count": 38,
   "metadata": {
    "collapsed": false
   },
   "outputs": [
    {
     "name": "stdout",
     "output_type": "stream",
     "text": [
      "Day01.ipynb  Day02.ipynb  Day03.ipynb  __pycache__\r\n"
     ]
    }
   ],
   "source": [
    "!rm -r test\n",
    "!ls"
   ]
  },
  {
   "cell_type": "markdown",
   "metadata": {},
   "source": [
    "### Exercise\n",
    "\n",
    "To practice using `nbgrader fetch`, use it to fetch the following bundles:\n",
    "\n",
    "- `day01`, `day02`, `day03` into the `days` folder of your `phys202-2015-work` repo.\n",
    "- `assignment01` into the `assignments` folder of your `phys202-2015-work` repo.\n",
    "\n",
    "To verify that it has worked, run `tree` from the root directory of your `phys202-2015-work` repo.\n",
    "\n",
    "Once you have the content in the right place, add and commit these changes to your git repo. Finally, push the changes to GitHub."
   ]
  },
  {
   "cell_type": "markdown",
   "metadata": {},
   "source": [
    "## Out of class\n",
    "\n",
    "* Complete `assignment01` by the begining of class on Wednesday.\n",
    "  - Python course on http://codecademy.com\n",
    "  - Other problems\n",
    "* To submit `assignment01` for grading, run the following from your `assignments` directory:\n",
    "\n",
    "        nbgrader submit assignment01 phys202-2015"
   ]
  }
 ],
 "metadata": {
  "kernelspec": {
   "display_name": "Python 3",
   "language": "python",
   "name": "python3"
  },
  "language_info": {
   "codemirror_mode": {
    "name": "ipython",
    "version": 3
   },
   "file_extension": ".py",
   "mimetype": "text/x-python",
   "name": "python",
   "nbconvert_exporter": "python",
   "pygments_lexer": "ipython3",
   "version": "3.4.0"
  }
 },
 "nbformat": 4,
 "nbformat_minor": 0
}
