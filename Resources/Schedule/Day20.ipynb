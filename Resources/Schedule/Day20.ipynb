{
 "cells": [
  {
   "cell_type": "markdown",
   "metadata": {},
   "source": [
    "# Day 20\n",
    "\n",
    "* Computational Physics (PHYS 202)\n",
    "* Cal Poly, Spring 2015\n",
    "* Brian E. Granger"
   ]
  },
  {
   "cell_type": "markdown",
   "metadata": {},
   "source": [
    "## In class"
   ]
  },
  {
   "cell_type": "markdown",
   "metadata": {},
   "source": [
    "* Assignment 12 is due today\n",
    "\n",
    "        nbgrader submit phys202-project assignment12\n",
    "\n",
    "* Office hours this week:\n",
    "  - Tues+Th: 9-10am\n",
    "  - Fri: 4-5pm\n",
    "\n",
    "* Extended office hours this weekend (Saturday + Sunday).\n",
    "  - noon - 8pm\n",
    "\n",
    "* Fetch today's material:\n",
    "\n",
    "        nbgrader fetch phys202-2015 day20\n",
    "        nbgrader fetch phys202-2015 assignment13\n",
    "\n",
    "* **Final versions of all assignments due by Sunday night at midnight.**\n",
    "\n",
    "* Details about turning in your final projects to follow.\n",
    "* assignment13 is trivial - just push all your homework to github for the quarter.\n",
    "* Course evaluations [SAIL](https://sail.calpoly.edu/) are ready for you to fill out."
   ]
  }
 ],
 "metadata": {
  "kernelspec": {
   "display_name": "Python 3",
   "language": "python",
   "name": "python3"
  },
  "language_info": {
   "codemirror_mode": {
    "name": "ipython",
    "version": 3
   },
   "file_extension": ".py",
   "mimetype": "text/x-python",
   "name": "python",
   "nbconvert_exporter": "python",
   "pygments_lexer": "ipython3",
   "version": "3.4.0"
  }
 },
 "nbformat": 4,
 "nbformat_minor": 0
}
