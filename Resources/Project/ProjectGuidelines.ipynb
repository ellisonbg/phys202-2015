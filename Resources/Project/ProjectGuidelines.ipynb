{
 "cells": [
  {
   "cell_type": "markdown",
   "metadata": {},
   "source": [
    "# Project Guidelines"
   ]
  },
  {
   "cell_type": "markdown",
   "metadata": {},
   "source": [
    "## Overview"
   ]
  },
  {
   "cell_type": "markdown",
   "metadata": {},
   "source": [
    "This document describes the final projects that you will do for this course. These projects will build on your existing knowledge and take you to the next level with your skills in coding, software engineering, visualization, debugging, algorithmic thinking, etc.\n",
    "\n",
    "What is the difference between this project and the previous homework you have done?\n",
    "\n",
    "* The project will be **a lot more work** than a single homework (the project is worth the same as all of your homework).\n",
    "* The project will be a much more accurate representation of what it is like to do computational physics \"in the wild\".\n",
    "* The project is **open ended**. For most of your homework, there has been a very clear result you are aiming for, and I pick the target. With the project, I will give you general guidance, but you will have significant freedom to create and explore questions. Because of this you won't know the right answer and neither will I.\n",
    "* While multiple students will be doing a project on the same topic, each project will be **entirely unique** in the questions explored and the approach to those questions.\n",
    "* The end result of your project will be a **computational narrative**, i.e. a *story*, that uses code, data and visualizations to communicate something of significance. You will tell this story to the class in your final presentation.\n",
    "* The project is a **capstone experience** that will tie together everything you have learned and likely require you to learn a lot of new things we haven't covered in class.\n",
    "* Most importantly, the project will be a lot of **fun** and provide you with something significant you can use as the start of a computational portfolio.\n",
    "\n",
    "Here is the schedule for the project work:\n",
    "\n",
    "* Week 7: Projects are assigned on Wednesday, Day 14.\n",
    "* Week 8: Class dedicated to active project work time.\n",
    "* Week 9: Memorial Day on Monday, **Progress Report** due on Wednesday, Day 18.\n",
    "* Finals Week: **Final Project Deliverable** due at beginning of official final time, **Presentation** during official final time.\n",
    "\n",
    "Other practical guidelines:\n",
    "\n",
    "* Ask GitHub for a free educational account [here](https://education.github.com/) to give you free private repos.\n",
    "* Create a new GitHub repo for your project and add me (ellisonbg) only as a collaborator.\n",
    "* Your Progress Report and Final Project Deliverables will be turned in by pushing to your private repo.\n",
    "* After you have given your Final Presentation, you can optionally make your repo public so you can use it as a computational portfolio.\n",
    "* All questions and discussions related to the project should take place on the main gitter channel for the class. I will not reply to private emails related to the project."
   ]
  },
  {
   "cell_type": "markdown",
   "metadata": {},
   "source": [
    "## Progress report"
   ]
  },
  {
   "cell_type": "markdown",
   "metadata": {},
   "source": [
    "Your Progress Report will consist of one or more notebooks that include:\n",
    "\n",
    "* A one paragraph abstract that summarizes your project, the approach you will take and the questions you will tackle.\n",
    "* A detailed description of the **base question** you will use to verify that your code is working as expected. This base question should be a replication of one aspect of one of the original papers.\n",
    "* A detailed description of **two additional questions** you will answer/explore for the Final Project Deliverable.\n",
    "* A working implementation of the core algorithms related to the topic.\n",
    "* A working demonstration of any new Python packages you will need to use in the project, integrated with the rest of your code.\n",
    "* Tests and visualizations that demonstrate your implementation is working as expected.\n",
    "* A narrative description of the base implementation, test and visualizations. This should include a summary of the main functions and classes you have defined, any data structure, and the overall program flow."
   ]
  },
  {
   "cell_type": "markdown",
   "metadata": {},
   "source": [
    "## Final project deliverable"
   ]
  },
  {
   "cell_type": "markdown",
   "metadata": {},
   "source": [
    "The final project deliverable will consist of the work done for the Progress Report, with the following additional materials in one or more notebooks:\n",
    "\n",
    "* Code that fully addresses the **base question** you identified in your Progress Report. Your implementation should be described, tested and visualized.\n",
    "* Code that explores the **two additional questions** you identified in your Progress Report along with description, tests and visualizations.\n",
    "* An narrative interwoven with your code, with equations and diagrams as needed, that ties everything together into a coherent whole.\n",
    "* Interactive widgets that allows you, or the reader to explore the questions themselves."
   ]
  },
  {
   "cell_type": "markdown",
   "metadata": {},
   "source": [
    "## Final presentation"
   ]
  },
  {
   "cell_type": "markdown",
   "metadata": {},
   "source": [
    "Your final presentation will consist of a presentation to the class during the official final time for the class. You will use the notebook to do your presentation.\n",
    "\n",
    "* Your presentation should focus on the overall narrative, and the questions you explore.\n",
    "* You should do live demonstrations and a summary of the code, but you shouldn't get too technical about the details of the code.\n",
    "* Remember, most of the class won't know anything about the topic or questions you are presenting about.\n",
    "* If you have code that takes a while to run, you should run the code before the presentation, save the results to a file, load the results from disk and perform final analysis and visualizations.\n",
    "* Any videos should be uploaded to YouTube and included into your notebook using the `IPython.display.YouTube` class.\n",
    "\n",
    "**Students and faculty outside the class will be invited to attend the final presentations.**"
   ]
  },
  {
   "cell_type": "markdown",
   "metadata": {},
   "source": [
    "## Collaboration and sources"
   ]
  },
  {
   "cell_type": "markdown",
   "metadata": {},
   "source": [
    "There will be multiple students doing projects on the same topic, but each student will do their own project.\n",
    "\n",
    "* **I encourage you to talk to the other students doing your same topic, but you must not directly share code.**\n",
    "* Your implementations, tests and visualizations must be substantially different from those of other students.\n",
    "* The two additional questions that you investigate must be substantially different. You can propose to explore similar questions to other students, but the actual work to explore those questions should be substantially differrent.\n",
    "* Remember you will present this to the entire class - it will be *complete obvious* if you have shared code or your project is not substantially different from those of others.\n",
    "\n",
    "If you use outside materials (code, papers, websites) you must cite them. One of the signs of a good project will be lots of citations!"
   ]
  },
  {
   "cell_type": "markdown",
   "metadata": {},
   "source": [
    "## Rubric"
   ]
  },
  {
   "cell_type": "markdown",
   "metadata": {},
   "source": [
    "You will be graded on the following categories:\n",
    "\n",
    "### Code\n",
    "\n",
    "* Code is well organized into relatively small functions (10-20 lines) that do one thing.\n",
    "* Functions have docstrings describing what they do.\n",
    "* Appropriate variable names are used.\n",
    "* PEP 8 is approximately followed for code style.\n",
    "* Code is tested using assert statements.\n",
    "* Code that is used in multiple notebooks is put into standalone `.py` files and imported.\n",
    "* Code is modular to easily allow the exploration of different questions.\n",
    "* Code is written with fast performance in mind and does not have any significant performance problems.\n",
    "\n",
    "### Visualization and Interaction\n",
    "\n",
    "* Visualizations are provided to present results.\n",
    "* Visualizations adhere to the theory and practice of effective and beautiful visualizations.\n",
    "* Interactive widgets are used to explore results interactively.\n",
    "* Any created movies/animations are posted to YouTube and displayed in the notebook.\n",
    "\n",
    "### Narrative\n",
    "\n",
    "* Narrative text is provided to describe the code, physics, results, visualizations.\n",
    "* When appropriate, equations are included (LaTeX).\n",
    "* The narrative tells a compelling *story* that addresses the questions.\n",
    "* A one paragraph abstract is provided.\n",
    "* An introduction that describes the motivation, background, main equations and main questions is provided.\n",
    "\n",
    "### Presentation\n",
    "\n",
    "* Well dressed, looks professional.\n",
    "* Relaxed, confident and enthusiastic.\n",
    "* Speaks clearly at all times, with good volume, good pace, and smooth delivery.\n",
    "* All demos work.\n",
    "\n",
    "### Organization\n",
    "\n",
    "* The project is organized into multiple notebooks.\n",
    "* An introduction notebook is provided with the following sections:\n",
    "  - Abstract\n",
    "  - Overview and background\n",
    "  - Index of other notebooks with a short description\n",
    "  - Citations - the more the better.\n",
    "* Each notebook has well organized Markdown sections\n",
    "\n",
    "### Reproduction and Questions\n",
    "\n",
    "* There is a clear motivation for and statement of the question.\n",
    "* There is a clear exploration of the questions.\n",
    "* There is a clear conclusion that describes your results and conclusions for each questions."
   ]
  }
 ],
 "metadata": {
  "kernelspec": {
   "display_name": "Python 3",
   "language": "python",
   "name": "python3"
  },
  "language_info": {
   "codemirror_mode": {
    "name": "ipython",
    "version": 3
   },
   "file_extension": ".py",
   "mimetype": "text/x-python",
   "name": "python",
   "nbconvert_exporter": "python",
   "pygments_lexer": "ipython3",
   "version": "3.4.0"
  }
 },
 "nbformat": 4,
 "nbformat_minor": 0
}
