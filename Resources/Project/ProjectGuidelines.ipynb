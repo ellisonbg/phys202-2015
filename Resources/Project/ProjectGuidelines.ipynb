{
 "cells": [
  {
   "cell_type": "markdown",
   "metadata": {},
   "source": [
    "# Project Guidelines"
   ]
  },
  {
   "cell_type": "markdown",
   "metadata": {},
   "source": [
    "## Overview"
   ]
  },
  {
   "cell_type": "markdown",
   "metadata": {},
   "source": [
    "This document describes the final projects that you will do for this course. These projects will build on your existing knowledge and take you to the next level with your skills in coding, software engineering, visualization, debugging, algorithmic thinking, etc.\n",
    "\n",
    "What is the difference between this project and the previous homework you have done?\n",
    "\n",
    "* The project will be **a lot more work** than a single homework (the project is worth the same as all of your homework).\n",
    "* The project will be a much more accurate representation of what it is like to do computational physics \"in the wild\".\n",
    "* The project is **open ended**. For most of your homework, there has been a very clear result you are aiming for, and I pick the target. With the project, I will give you general guidance, but you will have significant freedom to create and explore questions. Because of this you won't know the right answer and neither will I.\n",
    "* While multiple students will be doing a project on the same topic, each project will be **entirely unique** in the questions explored and the approach to those questions.\n",
    "* The end result of your project will be a **computational narrative**, i.e. a *story*, that uses code, data and visualizations to communicate something of significance. You will tell this story to the class in your final presentation.\n",
    "* The project is a **capstone experience** that will tie together everything you have learned and likely require you to learn a lot of new things we haven't covered in class.\n",
    "* Most importantly, the project will be a lot of **fun** and provide you with something significant you can use as the start of a computational portfolio.\n",
    "\n",
    "Here is the schedule for the project work:\n",
    "\n",
    "* Week 7: Projects are assigned on Wednesday.\n",
    "* Week 8: Class dedicated to active project work time.\n",
    "* Week 9: Memorial Day on Monday, **Progress Report** due on Wednesday.\n",
    "* Finals Week: **Final Project Deliverable** due at beginning of official final time, **Presentation** during official final time.\n"
   ]
  },
  {
   "cell_type": "markdown",
   "metadata": {},
   "source": [
    "## Progress report"
   ]
  },
  {
   "cell_type": "markdown",
   "metadata": {},
   "source": [
    "Your Progress Report will consist of one or more notebooks that include:\n",
    "\n",
    "* A working base implementation of the core algorithms related to the topic.\n",
    "* A working demonstration of any new Python packages you will need to use in the project.\n",
    "* Tests and visualizations that demonstrate your implementation is working as expected.\n",
    "* A narrative description of the base implementation, test and visualizations. This description should be accessible to someone who doesn't know much about the topic.\n",
    "* A detailed description of what part of the original paper you will reproduce for the Final Project Deliverable.\n",
    "* A detailed description of **two** additional questions you will answer/explore for the Final Project Deliverable.\n",
    "\n",
    "You will use `nbgrader submit` to turn in your Progress Report to me."
   ]
  },
  {
   "cell_type": "markdown",
   "metadata": {},
   "source": [
    "## Final project deliverable"
   ]
  },
  {
   "cell_type": "markdown",
   "metadata": {},
   "source": [
    "The final project deliverable will consist of the work done for the Progress Report, with the following additional materials in one or more notebooks:\n",
    "\n",
    "* Code that reproduces the part of the original paper you identified in your Progress Report. Your implementation should be described, tested and visualized.\n",
    "* Code that explores the **two** additional questions you identified in your Progress Report along with description, tests and visualizations.\n",
    "\n",
    "You will use `nbgrader submit` to turn in your Final Project Deliverable to me."
   ]
  },
  {
   "cell_type": "markdown",
   "metadata": {},
   "source": [
    "## Final presentation"
   ]
  },
  {
   "cell_type": "markdown",
   "metadata": {},
   "source": [
    "Your final presentation will consist of a presentation to the class during the official final time for the class. You will use the notebook to do your presentation.\n",
    "\n",
    "* Your presentation should focus on the overall narrative, and the questions you explore.\n",
    "* You should do live demonstrations of the code, but you shouldn't get too technical about the details of the code.\n",
    "* Remember, most of the class won't know anything about the topic or questions you are presenting about.\n",
    "* If you have code that takes a while to run, you should run the code before the presentation, save the results to a file, load the results from disk and perform final analysis and visualizations.\n",
    "\n",
    "**Students and faculty outside the class will be invited to attend the final presentations.**"
   ]
  },
  {
   "cell_type": "markdown",
   "metadata": {},
   "source": [
    "## Collaboration and sources"
   ]
  },
  {
   "cell_type": "markdown",
   "metadata": {},
   "source": [
    "There will be multiple students doing projects on the same topic, but each student will do their own project.\n",
    "\n",
    "* **I encourage you to talk to the other students doing your same topic, but you must not directly share code.**\n",
    "* Your implementations, tests and visualizations must be substantially different from those of other students.\n",
    "* The two additional questions that you investigate must be substantially different. You can propose to explore similar questions to other students, but the actual work to explore those questions should be substantially differrent.\n",
    "* Remember you will present this to the entire class - it will be *complete obvious* if you have shared code or your project is not substantially different from those of others.\n",
    "\n",
    "If you use outside materials (code, papers, websites) you must cite them."
   ]
  },
  {
   "cell_type": "markdown",
   "metadata": {},
   "source": [
    "## Rubric"
   ]
  },
  {
   "cell_type": "markdown",
   "metadata": {},
   "source": [
    "You will be graded on the following categories:\n",
    "\n",
    "### Code\n",
    "\n",
    "* Code is well organized into smallish functions that do one thing.\n",
    "* Functions have docstrings describing what they do.\n",
    "* Appropriate variable names are used.\n",
    "* PEP 8 is followed.\n",
    "* Code is tested using assert statements.\n",
    "* Code that is used in multiple notebooks is put into standalone `.py` files and imported.\n",
    "\n",
    "### Visualization and Interaction\n",
    "\n",
    "* Visualizations are provided to present results.\n",
    "* Visualizations adhere to the theory and practice of effective and beautiful visualizations.\n",
    "* Interactive widgets are used to explore results interactively.\n",
    "* Any created movies/animations are posted to YouTube and displayed in the notebook.\n",
    "\n",
    "### Narrative\n",
    "\n",
    "* Narrative text is provided to describe the code, physics, results, visualizations.\n",
    "* When appropriate, equations are included (LaTeX).\n",
    "* The narrative tells a compelling *story* that addresses the questions.\n",
    "\n",
    "### Presentation\n",
    "\n",
    "* Looks professional.\n",
    "* Is relaxed, confident and enthusiastic.\n",
    "* Speaks clearly at all times, with good volume, good pace, and smooth delivery.\n",
    "* All demos work.\n",
    "\n",
    "### Organization\n",
    "\n",
    "* The project is organized into multiple notebooks.\n",
    "* An introduction notebook is provided with the following sections:\n",
    "  - Abstract\n",
    "  - Overview and background\n",
    "  - Index of other notebooks with a short description\n",
    "  - Citations\n",
    "* Each notebook has well organized Markdown sections\n",
    "\n",
    "### Reproduction and Questions\n",
    "\n",
    "* There is a clear motivation for and statement of the question.\n",
    "* There is a clear exploration of the questions.\n",
    "* There is a clear conclusion that describes you results for each questions."
   ]
  }
 ],
 "metadata": {
  "kernelspec": {
   "display_name": "Python 3",
   "language": "python",
   "name": "python3"
  },
  "language_info": {
   "codemirror_mode": {
    "name": "ipython",
    "version": 3
   },
   "file_extension": ".py",
   "mimetype": "text/x-python",
   "name": "python",
   "nbconvert_exporter": "python",
   "pygments_lexer": "ipython3",
   "version": "3.4.0"
  }
 },
 "nbformat": 4,
 "nbformat_minor": 0
}
