{
 "cells": [
  {
   "cell_type": "markdown",
   "metadata": {},
   "source": [
    "# Galaxy Mergers"
   ]
  },
  {
   "cell_type": "markdown",
   "metadata": {},
   "source": [
    "The project was originally developed by Jennifer Klay and modified by Brian Granger. The idea for this project came from Jorge Moreno, who visited our department to give a colloquium on his research in Winter 2014. All content is licensed under the MIT License."
   ]
  },
  {
   "cell_type": "markdown",
   "metadata": {},
   "source": [
    "---"
   ]
  },
  {
   "cell_type": "markdown",
   "metadata": {},
   "source": [
    "## Introduction"
   ]
  },
  {
   "cell_type": "markdown",
   "metadata": {},
   "source": [
    "One of the fundamental questions in astrophysics is how galaxies form, evolve and interact.  It might seem surprising that galaxies separated by vast distances could interact with one another, but their immense masses and the gravitational forces that govern their formation and evolution nevertheless can lead to violent interactions.  The Milky Way galaxy is right now on a collision course with the Andromeda galaxy and they are predicted to collide in about 4 billion years.  Even though both galaxies are made up of hundreds of billions of stars, the separation between stars in the galaxies means that the chances of direct stellar collisions are extremely small.  Nevertheless, if our descendents are still around to experience it, the view of our night sky will definitely change as a result of this interaction."
   ]
  },
  {
   "cell_type": "markdown",
   "metadata": {},
   "source": [
    "Here is a computer simulation of the merger generated using data from the Hubble Space Telescope and our knowledge of the gravitational interaction among the constituents."
   ]
  },
  {
   "cell_type": "code",
   "execution_count": 1,
   "metadata": {
    "collapsed": false
   },
   "outputs": [
    {
     "data": {
      "text/html": [
       "\n",
       "        <iframe\n",
       "            width=\"400\"\n",
       "            height=\"300\"\n",
       "            src=\"https://www.youtube.com/embed/4disyKG7XtU\"\n",
       "            frameborder=\"0\"\n",
       "            allowfullscreen\n",
       "        ></iframe>\n",
       "        "
      ],
      "text/plain": [
       "<IPython.lib.display.YouTubeVideo at 0x7fb4c01ac8d0>"
      ]
     },
     "execution_count": 1,
     "metadata": {},
     "output_type": "execute_result"
    }
   ],
   "source": [
    "from IPython.display import YouTubeVideo\n",
    "YouTubeVideo('4disyKG7XtU')"
   ]
  },
  {
   "cell_type": "markdown",
   "metadata": {},
   "source": [
    "So how does one go about simulating the collision of two galaxies?  The video above was probably generated on massive supercomputers running full blast for a very long time to generate the paths of all of the individual stars as the galaxies merged.  Is it really possible that we could generate something like that using the programming skills you have learned? The answer is yes, if we make some simplifying assumptions.  \n",
    "\n",
    "In this project you will create a simulation of galaxy mergers using the methods of Toomre and Toomre, two brothers who used state of the art computers at MIT and NYU in 1972 to investigate the dynamics of massless point particles orbiting a massive galactic nucleus $M$ in a parabolic orbit about the center of mass with another massive galactic nucleus $S$.  Their work was an extension of a previous paper published in German in 1963 describing the system of equations and an early attempt to investigate how the spiral structure of galaxies emerges."
   ]
  },
  {
   "cell_type": "markdown",
   "metadata": {},
   "source": [
    "[Toomre and Toomre's 1972 paper](http://articles.adsabs.harvard.edu/cgi-bin/nph-iarticle_query?1972ApJ...178..623T&amp;data_type=PDF_HIGH&amp;whole_paper=YES&amp;type=PRINTER&amp;filetype=.pdf) on the simulation of galaxy mergers with Newtonian mechanics.\n",
    "\n",
    "[Pfleiderer 1963](http://articles.adsabs.harvard.edu/cgi-bin/nph-iarticle_query?1963ZA.....58...12P&amp;data_type=PDF_HIGH&amp;whole_paper=YES&amp;type=PRINTER&amp;filetype=.pdf) is in German, but includes the equations and the set up of the problem.  Jennifer Klay translated the relevant parts of the paper to come up with a description of the equations and variables that were used by Pfeliderer and the Toomres to do their simulation."
   ]
  },
  {
   "cell_type": "markdown",
   "metadata": {},
   "source": [
    "## The equations"
   ]
  },
  {
   "cell_type": "markdown",
   "metadata": {},
   "source": [
    "This is a restricted 3-body problem in which particles composing the outer disk of galaxy $M$ are massless but nevertheless interact through inverse square laws with the mass centers of their galactic central mass ($M$) and the central mass of the disrupting galaxy ($S$)."
   ]
  },
  {
   "cell_type": "markdown",
   "metadata": {},
   "source": [
    "The calculation is performed in the rest frame of the mass $M$ lying at the origin, with the starting positions for the massless point particles $m_i$ (stars) in the orbits around it given by $(\\boldsymbol{r_0})_i$ and the position of mass $S$ relative to $M$ given by $\\boldsymbol{\\Re}$.  The evolution of the positions of the stars $m_i$ and galaxy $S$ relative to $M$ is dictated by the set of differential equations:"
   ]
  },
  {
   "cell_type": "markdown",
   "metadata": {},
   "source": [
    "$$ \\ddot{\\mathbf{r}} = -\\gamma \\left\\{ \\frac{M}{r^3}\\mathbf{r} -\\frac{S}{\\rho^3}\\boldsymbol{\\rho} + \\frac{S}{R^3}\\boldsymbol\\Re \\right\\} $$\n",
    "\n",
    "$$ \\ddot{\\boldsymbol\\Re} = -\\gamma \\frac{M+S}{R^3}\\boldsymbol\\Re$$"
   ]
  },
  {
   "cell_type": "markdown",
   "metadata": {},
   "source": [
    "where \n",
    "\n",
    "* $\\gamma$ is the Gravitational constant.\n",
    "* $M$ is the central mass of the main galaxy and $S$ is the central mass of the disrupting galaxy\n",
    "* $\\mathbf{r}$ is the radius vector from mass $M$ to massless point particle $m$, representing a single (massless) star in the outer disk of the main galaxy.\n",
    "* $\\boldsymbol\\Re$ is the radius vector from $M$ to $S$\n",
    "* $\\boldsymbol{\\rho} = \\boldsymbol{\\Re} - \\boldsymbol{r}$"
   ]
  },
  {
   "cell_type": "markdown",
   "metadata": {},
   "source": [
    "One starts with a position and velocity vector for $S$, and the $m_i$ (remember that we are in the rest frame of $M$ so it is at rest at the origin of the coordinate system) and then solves these differential equations to get the positions of $S$, and the set of $m_i$ ($i$ = 0,...,$N$) as a function of time under the influence of pure Newtonian gravity.\n",
    "\n",
    "After the equations are solved, one can either draw static images of the system at specific points in time, or form an animated movie of the interaction.  For this project, you will do both.\n",
    "\n",
    "In the image from Toomre and Toomre shown below, they transformed to the center-of-mass of the $M$+$S$ system for the first 4 frames and then switched back to the rest frame of $M$ for the six subsequent frames.\n",
    "\n",
    "<img src=\"toomre_toomre_fig1.png\">"
   ]
  },
  {
   "cell_type": "markdown",
   "metadata": {},
   "source": [
    "Section II of the paper describes exactly the algorithm used to compute the results, followed by four examples."
   ]
  },
  {
   "cell_type": "markdown",
   "metadata": {},
   "source": [
    "## The Project"
   ]
  },
  {
   "cell_type": "markdown",
   "metadata": {},
   "source": [
    "The original paper describes four examples:\n",
    "\n",
    "* Direct passage\n",
    "* Retrograde passage\n",
    "* Light mass disruptor\n",
    "* Heavy mass disruptor\n",
    "\n",
    "You should pick one/two of these cases as your **base question**.\n",
    "\n",
    "Pfleiderer's paper lists a variety of interactions and initial conditions, including elliptical orbits for the point masses, from which the Toomre examples are a subset. Your **two additional questions** should come from this list of initial conditions.\n",
    "\n",
    "For all initial conditions studied you should have:\n",
    "\n",
    "* Static visualizations.\n",
    "* Animations/movies.\n",
    "* Multiple perspectives, both the center-of-mass of the system and the rest frames of the two interactive galaxies $M$ and $N$."
   ]
  },
  {
   "cell_type": "markdown",
   "metadata": {},
   "source": [
    "<table>\n",
    "<tr><th> Type</th><th>Position $X$</th><th>Position $Y$</th><th>Velocity $U$</th><th>Velocity $V$</th><th> Eccentricity $\\epsilon_s$</th><th> Mass ratio $S/M$</th></tr>\n",
    "<tr><td>S1+</td><td>1</td><td>0</td><td>&gt; 0</td><td>0</td><td>1</td><td>1</td></tr>\n",
    "<tr><td>S1-</td><td>1</td><td>0</td><td>&lt; 0</td><td>0</td><td>1</td><td>1</td></tr>\n",
    "<tr><td>S2+</td><td>1</td><td>0</td><td>&gt; 0</td><td>0</td><td>7</td><td>1</td></tr>\n",
    "<tr><td>S2-</td><td>1</td><td>0</td><td>&lt; 0</td><td>0</td><td>7</td><td>1</td></tr>\n",
    "<tr><td>S3+</td><td>1</td><td>0</td><td>&gt; 0</td><td>0</td><td>31</td><td>3</td></tr>\n",
    "<tr><td>S3-</td><td>1</td><td>0</td><td>&lt; 0</td><td>0</td><td>31</td><td>3</td></tr>\n",
    "<tr><td>S4</td><td>1</td><td>0</td><td>0</td><td>&gt; 0</td><td>31</td><td>3</td></tr>\n",
    "<tr><td>S5</td><td>1</td><td>0</td><td>0</td><td>&gt; 0</td><td>1</td><td>1</td></tr>\n",
    "<tr><td>S6</td><td>0</td><td>1</td><td>&gt; 0</td><td>0</td><td>31</td><td>3</td></tr>\n",
    "<tr><td>S7</td><td>0</td><td>1</td><td>&gt; 0</td><td>0</td><td>1</td><td>1</td></tr>\n",
    "</table>\n"
   ]
  },
  {
   "cell_type": "markdown",
   "metadata": {},
   "source": [
    "## Implementation advice"
   ]
  },
  {
   "cell_type": "markdown",
   "metadata": {},
   "source": [
    "The exercises related to Ordinary Differential Equations are useful guidance for how to set up your solution.  Start with a single point mass orbiting the main galaxy and its interactions with the disrupting galaxy. Once you have it working for a single test mass, add in more until you have a complete solution.\n",
    "\n",
    "You will need to tune the error tolerances of `odeint` to ensure that you are accurately solving the equations of motion. One good way of making sure you have the errors under control is to compute the total energy of the system (which should be constant). This will require a bit of derivation, but would be very worth your time.\n",
    "\n",
    "One of the main challenges you will face is how to perform animations of your results. Here are some thoughts on how to do that:\n",
    "\n",
    "* Perform your simulations separate from the visualizations and animations. Save the solution arrays for each simulation to disk (in the `npz` format). You should come up with a naming scheme for your files that makes it clear what parameters were used for each simulation. You may even want to save those parameters into a JSON file with the same naming scheme.\n",
    "* Generate visualizations and animations from data that is saved to disk.\n",
    "\n",
    "I will provide you with some additional information about how to create animations using Matplotlib."
   ]
  }
 ],
 "metadata": {
  "kernelspec": {
   "display_name": "Python 3",
   "language": "python",
   "name": "python3"
  },
  "language_info": {
   "codemirror_mode": {
    "name": "ipython",
    "version": 3
   },
   "file_extension": ".py",
   "mimetype": "text/x-python",
   "name": "python",
   "nbconvert_exporter": "python",
   "pygments_lexer": "ipython3",
   "version": "3.4.0"
  }
 },
 "nbformat": 4,
 "nbformat_minor": 0
}
