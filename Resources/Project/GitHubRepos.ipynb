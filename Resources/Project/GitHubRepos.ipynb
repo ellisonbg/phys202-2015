{
 "cells": [
  {
   "cell_type": "markdown",
   "metadata": {
    "nbgrader": {}
   },
   "source": [
    "# Turning In Your GitHub Repos"
   ]
  },
  {
   "cell_type": "markdown",
   "metadata": {
    "nbgrader": {}
   },
   "source": [
    "The purpose of this assignment is for you to \"turn in\" your Github repos. In addition to being used to turn in your project, this assignment will be assigned a grade that reflects your usage of Git/GitHub."
   ]
  },
  {
   "cell_type": "markdown",
   "metadata": {
    "nbgrader": {}
   },
   "source": [
    "## Homework GitHub repo"
   ]
  },
  {
   "cell_type": "markdown",
   "metadata": {
    "nbgrader": {}
   },
   "source": [
    "Throughout the quarter you should have been pushing your weekly homework to a public Github repo.\n",
    "\n",
    "1. Make sure all of your homework is pushed to this repo.\n",
    "2. In the following markkdown cell, paste the URL to that repo. This should be something like https://github.com/ellisonbg/phys202-2015-work"
   ]
  },
  {
   "cell_type": "markdown",
   "metadata": {
    "nbgrader": {
     "grade": true,
     "grade_id": "githubreposa",
     "points": 5,
     "solution": true
    }
   },
   "source": []
  },
  {
   "cell_type": "markdown",
   "metadata": {
    "nbgrader": {}
   },
   "source": [
    "## Project GitHub repo"
   ]
  },
  {
   "cell_type": "markdown",
   "metadata": {
    "nbgrader": {}
   },
   "source": [
    "To turn in the notebooks for your project, go through the following steps:\n",
    "\n",
    "1. Create a new public GitHub repo, named `phys202-project`. If you need a refresher on creating a repo, have a look at this [tutorial](https://help.github.com/articles/create-a-repo/).\n",
    "2. Clone the repo onto dirac1. When you do this, you should do it in a directory that doesn't already have a directory with the name `phys202-project` and which itself is not another GitHub repo.\n",
    "3. Copy your project materials into the new GitHub repo on dirac1.\n",
    "4. Commit and push your changes to GitHub\n",
    "5. In the following markdown cell, paste the URL to that repo. This should be something like https://github.com/ellisonbg/phys202-project\n",
    "\n",
    "Before turning this in you should check the following:\n",
    "\n",
    "* Make sure it will be obvious to me what each notebook contains and which order I should go through them in.\n",
    "* If there are cells or notebook that take longer than 30-60 seconds to run, you should put a uppercase bold warning in a markdown cell immediately above the cell: **THIS CELL TAKES XXX MINUTES TO RUN**. I won't run these cells.\n",
    "* You should make sure that your notebooks will run without error wth a cleared kernel, from the top to the bottom, *leaving out the long running cells*. This will require you to save the output of long running cells to disk and load them back for analysis and visualization purposes. Yes, I will run your code!"
   ]
  },
  {
   "cell_type": "markdown",
   "metadata": {
    "nbgrader": {
     "grade": true,
     "grade_id": "githubreposb",
     "points": 5,
     "solution": true
    }
   },
   "source": []
  }
 ],
 "metadata": {
  "celltoolbar": "Create Assignment",
  "kernelspec": {
   "display_name": "Python 3",
   "language": "python",
   "name": "python3"
  },
  "language_info": {
   "codemirror_mode": {
    "name": "ipython",
    "version": 3
   },
   "file_extension": ".py",
   "mimetype": "text/x-python",
   "name": "python",
   "nbconvert_exporter": "python",
   "pygments_lexer": "ipython3",
   "version": "3.4.0"
  }
 },
 "nbformat": 4,
 "nbformat_minor": 0
}
